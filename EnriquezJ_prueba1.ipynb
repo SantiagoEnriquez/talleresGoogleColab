{
  "nbformat": 4,
  "nbformat_minor": 0,
  "metadata": {
    "colab": {
      "provenance": [],
      "toc_visible": true,
      "authorship_tag": "ABX9TyPty/0a/4wR+1+3YMYWPfmY",
      "include_colab_link": true
    },
    "kernelspec": {
      "name": "python3",
      "display_name": "Python 3"
    },
    "language_info": {
      "name": "python"
    }
  },
  "cells": [
    {
      "cell_type": "markdown",
      "metadata": {
        "id": "view-in-github",
        "colab_type": "text"
      },
      "source": [
        "<a href=\"https://colab.research.google.com/github/SantiagoEnriquez/talleresGoogleColab/blob/main/EnriquezJ_prueba1.ipynb\" target=\"_parent\"><img src=\"https://colab.research.google.com/assets/colab-badge.svg\" alt=\"Open In Colab\"/></a>"
      ]
    },
    {
      "cell_type": "markdown",
      "source": [
        "# Mi primera vez\n",
        "## es un subtitulo"
      ],
      "metadata": {
        "id": "VcXUqjrSekyV"
      }
    },
    {
      "cell_type": "code",
      "source": [
        "print(\"buenos días santy\")"
      ],
      "metadata": {
        "colab": {
          "base_uri": "https://localhost:8080/"
        },
        "id": "pHQtgkBZde7O",
        "outputId": "9ddb88dc-51ff-430d-8d2e-63c177b2dbd2"
      },
      "execution_count": 1,
      "outputs": [
        {
          "output_type": "stream",
          "name": "stdout",
          "text": [
            "hola santy\n"
          ]
        }
      ]
    },
    {
      "cell_type": "markdown",
      "source": [
        "# segundo ejercicio"
      ],
      "metadata": {
        "id": "rpdgo5YUfDYd"
      }
    },
    {
      "cell_type": "code",
      "source": [
        "print(\"buenos días, santiago\")"
      ],
      "metadata": {
        "colab": {
          "base_uri": "https://localhost:8080/"
        },
        "id": "ljEXog6PfMK-",
        "outputId": "7cc5ef9c-ca72-43f9-ed53-920f785919d6"
      },
      "execution_count": 3,
      "outputs": [
        {
          "output_type": "stream",
          "name": "stdout",
          "text": [
            "hola, santiago\n"
          ]
        }
      ]
    },
    {
      "cell_type": "markdown",
      "source": [
        "# tercer ejercicio"
      ],
      "metadata": {
        "id": "ijh-LLarl66w"
      }
    },
    {
      "cell_type": "code",
      "source": [
        "print(2+3)"
      ],
      "metadata": {
        "colab": {
          "base_uri": "https://localhost:8080/"
        },
        "id": "WNCCUxFDmB8R",
        "outputId": "07d02979-d1f0-4d93-d76a-fdd33ba3edea"
      },
      "execution_count": 5,
      "outputs": [
        {
          "output_type": "stream",
          "name": "stdout",
          "text": [
            "5\n"
          ]
        }
      ]
    }
  ]
}